{
 "cells": [
  {
   "cell_type": "markdown",
   "source": [
    "## Load data"
   ],
   "metadata": {
    "collapsed": false
   }
  },
  {
   "cell_type": "code",
   "execution_count": 3,
   "outputs": [
    {
     "name": "stdout",
     "output_type": "stream",
     "text": [
      "C:\\Users\\Lenovo\\Desktop\\meningioma_project\\code\\src\\radiomic_features\\random_forest\\analysis\n"
     ]
    }
   ],
   "source": [
    "import numpy as np\n",
    "\n",
    "from random_forest.train import load_data, get_metadata_columns\n",
    "from pathlib import Path\n",
    "import pandas as pd\n",
    "import plotly.graph_objs as go\n",
    "import plotly.offline as pyo\n",
    "\n",
    "print(Path(\".\").absolute())\n",
    "base_dir = Path(\"..\", \"..\", \"..\", \"..\", \"data\")\n",
    "radiomics_file_name = \"radiomics_features_2022_12_10_11_20_08.csv\"\n",
    "radiomics_train_file_name = f\"train_{radiomics_file_name}\"\n",
    "radiomics_test_file_name = f\"test_{radiomics_file_name}\"\n",
    "\n",
    "train_dataframe = load_data(Path(base_dir, radiomics_file_name))\n",
    "\n",
    "train_dataframe = train_dataframe.drop(get_metadata_columns(train_dataframe), axis=1)\n"
   ],
   "metadata": {
    "collapsed": false
   }
  },
  {
   "cell_type": "markdown",
   "source": [
    "## PCA"
   ],
   "metadata": {
    "collapsed": false
   }
  },
  {
   "cell_type": "code",
   "execution_count": 28,
   "outputs": [
    {
     "name": "stdout",
     "output_type": "stream",
     "text": [
      "Explained variance: [0.38572948 0.16536156]\n",
      "[0, 1, 2, 3, 4, 5, 6, 7, 8, 9, 10, 11, 12, 13, 14, 15, 16, 17, 18, 19, 20, 21, 22, 23, 24, 25, 26, 27, 28, 29, 30, 31, 32, 33, 34, 35, 36, 37, 38, 39, 40, 41, 42, 43, 44, 45, 46, 47, 48, 49, 50, 51, 52, 53, 54, 55, 56, 57, 58, 59, 60, 61, 62, 63, 64, 65, 66, 67, 68, 69, 70, 71, 72, 73, 74, 75, 76, 77]\n",
      "[78, 79, 80, 81, 82, 83, 84, 87, 89, 90, 91, 93, 94, 95, 96, 97, 98, 99, 100, 101, 102, 103, 104, 105, 106, 107, 108, 109, 110, 111, 112, 113, 114, 115, 116, 117, 118, 119, 120, 121, 122, 123, 124, 125, 126, 127, 128, 129, 130, 131, 132, 133, 134, 135, 136, 137, 138, 139, 140, 141, 142, 143, 144, 145, 146, 147, 148, 149, 150, 151, 152, 153, 154, 155, 156, 157, 158, 159]\n",
      "[85, 86, 88, 92, 160, 161, 162, 163, 164, 165, 166, 167, 168, 169, 170, 171, 172, 173, 174, 175, 176, 177, 178, 179, 180, 181, 182, 183, 184, 185, 186, 187, 188, 189, 190, 191, 192, 193, 194, 195, 196, 197, 198, 199, 200]\n"
     ]
    },
    {
     "data": {
      "text/plain": "'temp-plot.html'"
     },
     "execution_count": 28,
     "metadata": {},
     "output_type": "execute_result"
    }
   ],
   "source": [
    "from sklearn.decomposition import PCA\n",
    "\n",
    "\n",
    "def do_scaling(x_dataframe: pd.DataFrame):\n",
    "    standard_scaler = StandardScaler()\n",
    "    x_dataframe_scaled = standard_scaler.fit_transform(x_dataframe)\n",
    "    return pd.DataFrame(x_dataframe_scaled, index=x_dataframe.index, columns=x_dataframe.columns)\n",
    "\n",
    "\n",
    "train_dataframe_scaled = do_scaling(train_dataframe.drop(\"label\", axis=1))\n",
    "pca = PCA(n_components=2)\n",
    "pca.fit(train_dataframe_scaled)\n",
    "transformed_values = pca.components_.T\n",
    "\n",
    "print(f\"Explained variance: {pca.explained_variance_ratio_}\")\n",
    "\n",
    "data = []\n",
    "for group in [1, 2, 3]:\n",
    "    df_group_idx = list(train_dataframe[train_dataframe['label'] == group].index)\n",
    "    print(df_group_idx)\n",
    "    trace = go.Scatter(x=transformed_values[df_group_idx, 0],\n",
    "                       y=transformed_values[df_group_idx, 1],\n",
    "                       mode='markers',\n",
    "                       name=group)\n",
    "    data.append(trace)\n",
    "\n",
    "# Layout of the plot\n",
    "layout = go.Layout(title='PCA')\n",
    "fig = go.Figure(data=data, layout=layout)\n",
    "pyo.plot(fig)\n"
   ],
   "metadata": {
    "collapsed": false
   }
  },
  {
   "cell_type": "markdown",
   "source": [
    "## Correlation of features with label"
   ],
   "metadata": {
    "collapsed": false
   }
  },
  {
   "cell_type": "code",
   "execution_count": 4,
   "outputs": [
    {
     "data": {
      "text/plain": "'temp-plot.html'"
     },
     "execution_count": 4,
     "metadata": {},
     "output_type": "execute_result"
    }
   ],
   "source": [
    "import pandas as pd\n",
    "import plotly.express as px\n",
    "\n",
    "df = train_dataframe.corr()[[\"label\"]]\n",
    "# df = pd.concat([df] * 10000, axis=1)\n",
    "# fig = px.imshow(df)\n",
    "fig = px.bar(df.iloc[1:])\n",
    "pyo.plot(fig)"
   ],
   "metadata": {
    "collapsed": false
   }
  },
  {
   "cell_type": "markdown",
   "source": [
    "## Correlations between vars distribution"
   ],
   "metadata": {
    "collapsed": false
   }
  },
  {
   "cell_type": "code",
   "execution_count": 12,
   "outputs": [
    {
     "data": {
      "text/plain": "'temp-plot.html'"
     },
     "execution_count": 12,
     "metadata": {},
     "output_type": "execute_result"
    }
   ],
   "source": [
    "df = train_dataframe.corr()\n",
    "fig = px.histogram(np.reshape(df.to_numpy(), -1))\n",
    "pyo.plot(fig)"
   ],
   "metadata": {
    "collapsed": false
   }
  },
  {
   "cell_type": "markdown",
   "source": [
    "## Visualize variance explained by PCA"
   ],
   "metadata": {
    "collapsed": false
   }
  },
  {
   "cell_type": "code",
   "execution_count": 18,
   "outputs": [
    {
     "data": {
      "text/plain": "<Figure size 432x288 with 1 Axes>",
      "image/png": "[encoded data removed]"
     },
     "metadata": {},
     "output_type": "display_data"
    },
    {
     "data": {
      "text/plain": "None"
     },
     "metadata": {},
     "output_type": "display_data"
    },
    {
     "data": {
      "text/plain": "   Cumulative Variance Ratio  Explained Variance Ratio\n0                   0.385299                  0.385299\n1                   0.550494                  0.165195\n2                   0.614068                  0.063574\n3                   0.661717                  0.047650\n4                   0.702572                  0.040855\n5                   0.731868                  0.029296\n6                   0.756622                  0.024754\n7                   0.777467                  0.020845\n8                   0.796139                  0.018672\n9                   0.812983                  0.016843",
      "text/html": "<div>\n<style scoped>\n    .dataframe tbody tr th:only-of-type {\n        vertical-align: middle;\n    }\n\n    .dataframe tbody tr th {\n        vertical-align: top;\n    }\n\n    .dataframe thead th {\n        text-align: right;\n    }\n</style>\n<table border=\"1\" class=\"dataframe\">\n  <thead>\n    <tr style=\"text-align: right;\">\n      <th></th>\n      <th>Cumulative Variance Ratio</th>\n      <th>Explained Variance Ratio</th>\n    </tr>\n  </thead>\n  <tbody>\n    <tr>\n      <th>0</th>\n      <td>0.385299</td>\n      <td>0.385299</td>\n    </tr>\n    <tr>\n      <th>1</th>\n      <td>0.550494</td>\n      <td>0.165195</td>\n    </tr>\n    <tr>\n      <th>2</th>\n      <td>0.614068</td>\n      <td>0.063574</td>\n    </tr>\n    <tr>\n      <th>3</th>\n      <td>0.661717</td>\n      <td>0.047650</td>\n    </tr>\n    <tr>\n      <th>4</th>\n      <td>0.702572</td>\n      <td>0.040855</td>\n    </tr>\n    <tr>\n      <th>5</th>\n      <td>0.731868</td>\n      <td>0.029296</td>\n    </tr>\n    <tr>\n      <th>6</th>\n      <td>0.756622</td>\n      <td>0.024754</td>\n    </tr>\n    <tr>\n      <th>7</th>\n      <td>0.777467</td>\n      <td>0.020845</td>\n    </tr>\n    <tr>\n      <th>8</th>\n      <td>0.796139</td>\n      <td>0.018672</td>\n    </tr>\n    <tr>\n      <th>9</th>\n      <td>0.812983</td>\n      <td>0.016843</td>\n    </tr>\n  </tbody>\n</table>\n</div>"
     },
     "metadata": {},
     "output_type": "display_data"
    }
   ],
   "source": [
    "from sklearn.preprocessing import StandardScaler\n",
    "import matplotlib.pyplot as plt\n",
    "import seaborn as sns\n",
    "from sklearn.decomposition import PCA\n",
    "\n",
    "x_test_dataframe_scaled = do_scaling(train_dataframe)\n",
    "\n",
    "pca = PCA(n_components=30)\n",
    "pca.fit(x_test_dataframe_scaled)\n",
    "sns.set(style='whitegrid')\n",
    "plt.plot(np.cumsum(pca.explained_variance_ratio_))\n",
    "plt.xlabel('number of components')\n",
    "plt.ylabel('cumulative explained variance')\n",
    "plt.axvline(linewidth=4, color='r', linestyle='--', x=10, ymin=0, ymax=1)\n",
    "display(plt.show())\n",
    "evr = pca.explained_variance_ratio_\n",
    "cvr = np.cumsum(pca.explained_variance_ratio_)\n",
    "pca_df = pd.DataFrame()\n",
    "pca_df['Cumulative Variance Ratio'] = cvr\n",
    "pca_df['Explained Variance Ratio'] = evr\n",
    "display(pca_df.head(10))"
   ],
   "metadata": {
    "collapsed": false
   }
  }
 ],
 "metadata": {
  "kernelspec": {
   "name": "conda-env-data_science-py",
   "language": "python",
   "display_name": "Python [conda env:data_science] *"
  },
  "language_info": {
   "codemirror_mode": {
    "name": "ipython",
    "version": 2
   },
   "file_extension": ".py",
   "mimetype": "text/x-python",
   "name": "python",
   "nbconvert_exporter": "python",
   "pygments_lexer": "ipython2",
   "version": "2.7.6"
  }
 },
 "nbformat": 4,
 "nbformat_minor": 0
}
