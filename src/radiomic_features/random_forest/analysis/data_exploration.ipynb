{
 "cells": [
  {
   "cell_type": "markdown",
   "source": [
    "## Load data"
   ],
   "metadata": {
    "collapsed": false
   }
  },
  {
   "cell_type": "code",
   "execution_count": 63,
   "outputs": [],
   "source": [
    "import numpy as np\n",
    "\n",
    "from src.random_forest.train import load_data, _get_metadata_columns\n",
    "from pathlib import Path\n",
    "\n",
    "base_dir = Path(\"..\", \"..\", \"..\", \"data\")\n",
    "radiomics_file_name = \"radiomics_features_2022_12_10_11_20_08.csv\"\n",
    "radiomics_train_file_name = f\"train_{radiomics_file_name}\"\n",
    "radiomics_test_file_name = f\"test_{radiomics_file_name}\"\n",
    "\n",
    "train_dataframe = load_data(Path(base_dir, radiomics_file_name))\n",
    "\n",
    "train_dataframe = train_dataframe.drop(_get_metadata_columns(train_dataframe), axis=1)\n"
   ],
   "metadata": {
    "collapsed": false
   }
  },
  {
   "cell_type": "markdown",
   "source": [
    "## PCA"
   ],
   "metadata": {
    "collapsed": false
   }
  },
  {
   "cell_type": "code",
   "execution_count": 42,
   "outputs": [
    {
     "data": {
      "text/plain": "'temp-plot.html'"
     },
     "execution_count": 42,
     "metadata": {},
     "output_type": "execute_result"
    }
   ],
   "source": [
    "import plotly.graph_objs as go\n",
    "import plotly.offline as pyo\n",
    "\n",
    "from sklearn.decomposition import PCA\n",
    "\n",
    "data = []\n",
    "\n",
    "pca = PCA(n_components=2)\n",
    "pca.fit(train_dataframe)\n",
    "transformed_values = pca.components_.T\n",
    "\n",
    "print(f\"Explained variance: {pca.explained_variance_}\")\n",
    "\n",
    "for group in [1, 2, 3]:\n",
    "    df_group_idx = list(train_dataframe[train_dataframe['label'] == group].index)\n",
    "\n",
    "    trace = go.Scatter(x=transformed_values[df_group_idx, 0],\n",
    "                       y=transformed_values[df_group_idx, 1],\n",
    "                       mode='markers',\n",
    "                       name=group)\n",
    "    data.append(trace)\n",
    "\n",
    "# Layout of the plot\n",
    "layout = go.Layout(title='Grouping')\n",
    "fig = go.Figure(data=data, layout=layout)\n",
    "fig.show()\n"
   ],
   "metadata": {
    "collapsed": false
   }
  },
  {
   "cell_type": "markdown",
   "source": [
    "## Correlation features with label"
   ],
   "metadata": {
    "collapsed": false
   }
  },
  {
   "cell_type": "code",
   "execution_count": 54,
   "outputs": [
    {
     "data": {
      "text/plain": "'temp-plot.html'"
     },
     "execution_count": 54,
     "metadata": {},
     "output_type": "execute_result"
    }
   ],
   "source": [
    "import pandas as pd\n",
    "import plotly.express as px\n",
    "\n",
    "df = train_dataframe.corr()[[\"label\"]]\n",
    "# df = pd.concat([df] * 10000, axis=1)\n",
    "# fig = px.imshow(df)\n",
    "fig = px.bar(df.iloc[1:])\n",
    "pyo.plot(fig)"
   ],
   "metadata": {
    "collapsed": false
   }
  },
  {
   "cell_type": "markdown",
   "source": [
    "## Correlations between vars distribution"
   ],
   "metadata": {
    "collapsed": false
   }
  },
  {
   "cell_type": "code",
   "execution_count": 67,
   "outputs": [
    {
     "data": {
      "text/plain": "'temp-plot.html'"
     },
     "execution_count": 67,
     "metadata": {},
     "output_type": "execute_result"
    }
   ],
   "source": [
    "df = train_dataframe.corr()\n",
    "fig = px.histogram(np.reshape(df.to_numpy(), -1))\n",
    "pyo.plot(fig)"
   ],
   "metadata": {
    "collapsed": false
   }
  }
 ],
 "metadata": {
  "kernelspec": {
   "display_name": "Python 3",
   "language": "python",
   "name": "python3"
  },
  "language_info": {
   "codemirror_mode": {
    "name": "ipython",
    "version": 2
   },
   "file_extension": ".py",
   "mimetype": "text/x-python",
   "name": "python",
   "nbconvert_exporter": "python",
   "pygments_lexer": "ipython2",
   "version": "2.7.6"
  }
 },
 "nbformat": 4,
 "nbformat_minor": 0
}
